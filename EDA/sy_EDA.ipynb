{
 "cells": [
  {
   "cell_type": "markdown",
   "metadata": {},
   "source": [
    "### EDA 코드 기록용_서연"
   ]
  },
  {
   "cell_type": "code",
   "execution_count": 1,
   "metadata": {},
   "outputs": [],
   "source": [
    "import pandas as pd\n",
    "import numpy as np\n",
    "import matplotlib.pyplot as plt\n",
    "import seaborn as sns\n",
    "\n",
    "# 한글 폰트 사용을 위해서 세팅\n",
    "from matplotlib import font_manager, rc\n",
    "font_path = \"C:/Windows/Fonts/malgun.ttf\"\n",
    "font = font_manager.FontProperties(fname=font_path).get_name()\n",
    "rc('font', family=font)"
   ]
  },
  {
   "cell_type": "markdown",
   "metadata": {},
   "source": [
    "#### 입학DB"
   ]
  },
  {
   "cell_type": "code",
   "execution_count": null,
   "metadata": {},
   "outputs": [],
   "source": [
    "df = pd.read_csv(\"../../데이터/입학DB/01입학_클리닝.csv\", converters={\"ID\" : str})"
   ]
  },
  {
   "cell_type": "code",
   "execution_count": null,
   "metadata": {},
   "outputs": [],
   "source": [
    "## 각 컬럼별 유니크 값 카운트 및 비율 추출\n",
    "for column in df.columns[1:]:\n",
    "    print(f\"[{column} value counts]\")\n",
    "    print(df[column].value_counts())\n",
    "    print(\"-\"*5,\"개수 / 비율\", \"-\"*5)\n",
    "    print(round(df[column].value_counts(normalize=True)*100, 2))\n",
    "    print(\"=\"*20)\n",
    "    print()"
   ]
  },
  {
   "cell_type": "code",
   "execution_count": null,
   "metadata": {},
   "outputs": [],
   "source": [
    "## 한 변수의 value별 취업률(1, 0) count해서 시각화\n",
    "\n",
    "# 세부입학전형에 따른 취업률\n",
    "# 0, 1 중 하나의 값만 있을 경우 KeyError 발생 -> pass\n",
    "plt.figure(figsize=(25,25))\n",
    "\n",
    "for i, count in enumerate(set(df_0[\"세부입학전형\"])) :\n",
    "    # 행, 열\n",
    "    plt.subplot(5, 5, i+1)\n",
    "\n",
    "    try: \n",
    "        sns.countplot(data=df_0[df_0[\"세부입학전형\"]==count], x=\"취업구분_분석용\")\n",
    "    # value 값이 하나밖에 없어 오류가 날 경우 오류 알리고 pass\n",
    "    except KeyError:\n",
    "        print(\"KeyError 발생\", count)\n",
    "        pass\n",
    "    finally:\n",
    "        plt.title(f\"세부입학전형 {count} - 취업 여부\")\n",
    "\n",
    "plt.show()"
   ]
  },
  {
   "cell_type": "markdown",
   "metadata": {},
   "source": [
    "#### 학사DB (취경팀)"
   ]
  },
  {
   "cell_type": "code",
   "execution_count": null,
   "metadata": {},
   "outputs": [],
   "source": [
    "# 학과별 최종취업구분 pie 시각화\n",
    "\n",
    "for dept in df01[\"학과소분류명\"].unique() :\n",
    "    plt.figure(figsize=(6, 6))\n",
    "    dept_count = df01[df01[\"학과소분류명\"]==dept][\"최종취업구분\"].value_counts()\n",
    "    plt.pie(dept_count.values, \n",
    "            labels=dept_count.index,\n",
    "            colors=[]\n",
    "            textprops={\"fontsize\":12})\n",
    "    plt.title(f\"{dept} 최종취업구분 비율\")"
   ]
  },
  {
   "cell_type": "code",
   "execution_count": null,
   "metadata": {},
   "outputs": [],
   "source": [
    "# 기업 연계용 프로그램 추출 (2개 이상의 값만 추출할 때)\n",
    "df03_sub = df03[df03[\"프로그램명\"].isin(program_list)]"
   ]
  },
  {
   "cell_type": "code",
   "execution_count": null,
   "metadata": {},
   "outputs": [],
   "source": [
    "## 시트가 여러개인 엑셀 파일 import\n",
    "# 4. 상담실적(2015~2020)\n",
    "df04_2015 = pd.read_excel(\"../../데이터/취경팀/4. 상담실적_2015-2020년.xlsx\", sheet_name=\"2015학년도(7753건)\")"
   ]
  },
  {
   "cell_type": "markdown",
   "metadata": {},
   "source": [
    "#### 학사DB"
   ]
  },
  {
   "cell_type": "code",
   "execution_count": null,
   "metadata": {},
   "outputs": [],
   "source": [
    "# 컬럼별 유니크값 plot 추출\n",
    "for column in df01.columns[1:]:\n",
    "    plt.figure(figsize=(10, len(df01[column].unique())*0.5))\n",
    "    sns.countplot(data=df01, y=column, order=df01[column].value_counts().index)\n",
    "\n",
    "    plt.title(f\"{column}\")\n",
    "    plt.show"
   ]
  },
  {
   "cell_type": "code",
   "execution_count": null,
   "metadata": {},
   "outputs": [],
   "source": [
    "# 취득학위별 취업률\n",
    "df129_0.groupby('취득학위')['취업구분_분석용'].value_counts(normalize=True).unstack().sort_values(by=1.0, ascending=False)"
   ]
  },
  {
   "cell_type": "markdown",
   "metadata": {},
   "source": [
    "#### 학생DB"
   ]
  },
  {
   "cell_type": "code",
   "execution_count": null,
   "metadata": {},
   "outputs": [],
   "source": [
    "# 한 학생이 몇 학기동안 동아리 활동을 했는지 -> 학번, 동아리 횟수\n",
    "\n",
    "df_club_ = df_club.groupby(\"ID\")[\"학기\"].count().reset_index(name=\"동아리 횟수\")"
   ]
  },
  {
   "cell_type": "code",
   "execution_count": null,
   "metadata": {},
   "outputs": [],
   "source": [
    "from functools import reduce\n",
    "\n",
    "# 여러 데이터프레임 한 번에 합치기\n",
    "df_merge = reduce(lambda x, y: pd.merge(x, y, how='outer', on=\"ID\"), [df0, df_club_, df_ss_, df_sc_])\n",
    "df_merge.reset_index(drop=True, inplace=True) # 인덱스 초기화"
   ]
  },
  {
   "cell_type": "markdown",
   "metadata": {},
   "source": [
    "----"
   ]
  },
  {
   "cell_type": "markdown",
   "metadata": {},
   "source": [
    "#### 전처리 후 데이터 EDA"
   ]
  },
  {
   "cell_type": "code",
   "execution_count": null,
   "metadata": {},
   "outputs": [],
   "source": [
    "## 상관관계\n",
    "# heatmap 으로 시각화\n",
    "\n",
    "def corr_heatmap(df, cols, title) :\n",
    "    corr = df[cols].corr(method = 'pearson')\n",
    "\n",
    "    fig = plt.figure(figsize = (18, 15))\n",
    "    ax = fig.gca()\n",
    "\n",
    "    # sns.set(font_scale = 1.5)  # heatmap 안의 font-size 설정\n",
    "    heatmap = sns.heatmap(corr.values, annot = True, fmt='.2f', annot_kws={'size':15},\n",
    "                        yticklabels = cols, xticklabels = cols, ax=ax, cmap = \"RdYlBu\")\n",
    "    plt.tight_layout() ## 여백을 조정\n",
    "    plt.title(title)\n",
    "    plt.show()\n",
    "\n",
    "corr_heatmap(admission_df, admission_df.columns[4:], \"admission\")"
   ]
  },
  {
   "cell_type": "markdown",
   "metadata": {},
   "source": [
    "---"
   ]
  },
  {
   "cell_type": "markdown",
   "metadata": {},
   "source": [
    "#### 최종 전처리 후 박스 플롯 출력"
   ]
  },
  {
   "cell_type": "code",
   "execution_count": null,
   "metadata": {},
   "outputs": [],
   "source": [
    "# box plot - 성적 관련 컬럼\n",
    "\n",
    "plt.figure(figsize=(15, 8))\n",
    "plt.boxplot([ana_df[\"바종설_성적\"], ana_df[\"1학년_취득성적\"], ana_df[\"2학년_취득성적\"], ana_df[\"3학년_취득성적\"], ana_df[\"4학년_취득성적\"], ana_df[\"전공_취득성적\"], ana_df[\"교양_취득성적\"], ana_df[\"전체성적\"]], \n",
    "            labels = [\"바종설_성적\", \"1학년_취득성적\", \"2학년_취득성적\", \"3학년_취득성적\", \"4학년_취득성적\", \"전공_취득성적\", \"교양_취득성적\", \"전체성적\"])\n",
    "\n",
    "# plt.savefig(f\"2020/1.환경/plot/col_boxplot_{c}.png\")\n",
    "plt.title(\"성적 box plot\")\n",
    "plt.show()"
   ]
  },
  {
   "cell_type": "code",
   "execution_count": null,
   "metadata": {},
   "outputs": [],
   "source": [
    "# box plot - 취경팀 비교과 관련 컬럼\n",
    "# '진로탐색및설계_참여횟수', '직무탐색_참여횟수',\n",
    "#             '역량강화_참여횟수', '취업실전_참여횟수',\n",
    "\n",
    "plt.figure(figsize=(15, 8))\n",
    "plt.boxplot([ana_df[\"진로탐색및설계_참여횟수\"][ana_df[\"진로탐색및설계_참여횟수\"] != 0],\n",
    "             ana_df[\"직무탐색_참여횟수\"][ana_df[\"직무탐색_참여횟수\"] != 0], \n",
    "             ana_df[\"역량강화_참여횟수\"][ana_df[\"역량강화_참여횟수\"] != 0], \n",
    "             ana_df[\"취업실전_참여횟수\"][ana_df[\"취업실전_참여횟수\"] != 0]],\n",
    "             labels = [\"진로탐색및설계_참여횟수\", \"직무탐색_참여횟수\", \"역량강화_참여횟수\", \"취업실전_참여횟수\"])\n",
    "\n",
    "plt.title(\"비교과 box plot\")\n",
    "plt.show()"
   ]
  },
  {
   "cell_type": "code",
   "execution_count": null,
   "metadata": {},
   "outputs": [],
   "source": [
    "# box plot - 취경팀 비교과 관련 컬럼\n",
    "#교내장학금_누적금액', '교외장학금_누적금액', '국가장학금_누적금액'\n",
    "\n",
    "plt.figure(figsize=(15, 8))\n",
    "plt.boxplot([ana_df[\"교내장학금_누적금액\"][ana_df[\"교내장학금_누적금액\"] != 0],\n",
    "             ana_df[\"교외장학금_누적금액\"][ana_df[\"교외장학금_누적금액\"] != 0], \n",
    "             ana_df[\"국가장학금_누적금액\"][ana_df[\"국가장학금_누적금액\"] != 0]],\n",
    "             labels = [\"교내장학금_누적금액\", \"교외장학금_누적금액\", \"국가장학금_누적금액\"])\n",
    "\n",
    "plt.title(\"장학금(0 제외) box plot\")\n",
    "plt.show()"
   ]
  },
  {
   "cell_type": "code",
   "execution_count": null,
   "metadata": {},
   "outputs": [],
   "source": [
    "# box plot - 취경팀 비교과 관련 컬럼\n",
    "#교내장학금_누적금액', '교외장학금_누적금액', '국가장학금_누적금액'\n",
    "\n",
    "plt.figure(figsize=(15, 8))\n",
    "plt.boxplot([ana_df[\"교내장학금_누적금액\"],\n",
    "             ana_df[\"교외장학금_누적금액\"], \n",
    "             ana_df[\"국가장학금_누적금액\"]],\n",
    "             labels = [\"교내장학금_누적금액\", \"교외장학금_누적금액\", \"국가장학금_누적금액\"])\n",
    "\n",
    "plt.title(\"장학금(0 포함) box plot\")\n",
    "plt.show()"
   ]
  },
  {
   "cell_type": "code",
   "execution_count": null,
   "metadata": {},
   "outputs": [],
   "source": [
    "# box plot - 취경팀 상담 관련 컬럼 (0 제외)\n",
    "# '진로상담_참여횟수', '취업상담_참여횟수'\n",
    "\n",
    "plt.figure(figsize=(15, 8))\n",
    "plt.boxplot([ana_df[\"진로상담_참여횟수\"][ana_df[\"진로상담_참여횟수\"] != 0],\n",
    "             ana_df[\"취업상담_참여횟수\"][ana_df[\"취업상담_참여횟수\"] != 0]],\n",
    "             labels = [\"진로상담_참여횟수\", \"취업상담_참여횟수\"])\n",
    "\n",
    "plt.title(\"상담(0 제외) box plot\")\n",
    "plt.show()"
   ]
  },
  {
   "cell_type": "code",
   "execution_count": null,
   "metadata": {},
   "outputs": [],
   "source": [
    "# box plot - 취경팀 상담 관련 컬럼\n",
    "# '진로상담_참여횟수', '취업상담_참여횟수'\n",
    "\n",
    "plt.figure(figsize=(15, 8))\n",
    "plt.boxplot([ana_df[\"진로상담_참여횟수\"],\n",
    "             ana_df[\"취업상담_참여횟수\"]],\n",
    "             labels = [\"진로상담_참여횟수\", \"취업상담_참여횟수\"])\n",
    "\n",
    "plt.title(\"상담 box plot\")\n",
    "plt.show()"
   ]
  },
  {
   "cell_type": "code",
   "execution_count": null,
   "metadata": {},
   "outputs": [],
   "source": [
    "# box plot - 교내 활동 + 총이수학기 컬럼\n",
    "# '동아리참여학기', '소학회참여학기', '총이수학기'\n",
    "\n",
    "plt.figure(figsize=(15, 8))\n",
    "plt.boxplot([ana_df[\"동아리참여학기\"],\n",
    "             ana_df[\"소학회참여학기\"], \n",
    "             ana_df[\"총이수학기\"]],\n",
    "             labels = [\"동아리참여학기\", \"소학회참여학기\", \"총이수학기\"])\n",
    "\n",
    "plt.title(\"교내 활동 + 총이수학기(0 포함) box plot\")\n",
    "plt.show()"
   ]
  },
  {
   "cell_type": "code",
   "execution_count": null,
   "metadata": {},
   "outputs": [],
   "source": [
    "# box plot - 교내 활동 + 총이수학기 컬럼\n",
    "# '동아리참여학기', '소학회참여학기', '총이수학기'\n",
    "\n",
    "plt.figure(figsize=(15, 8))\n",
    "plt.boxplot([ana_df[\"동아리참여학기\"][ana_df[\"동아리참여학기\"] != 0],\n",
    "             ana_df[\"소학회참여학기\"][ana_df[\"소학회참여학기\"] != 0], \n",
    "             ana_df[\"총이수학기\"][ana_df[\"총이수학기\"] != 0]],\n",
    "             labels = [\"동아리참여학기\", \"소학회참여학기\", \"총이수학기\"])\n",
    "\n",
    "plt.title(\"교내 활동 + 총이수학기(0 제외) box plot\")\n",
    "plt.show()"
   ]
  }
 ],
 "metadata": {
  "kernelspec": {
   "display_name": "base",
   "language": "python",
   "name": "python3"
  },
  "language_info": {
   "codemirror_mode": {
    "name": "ipython",
    "version": 3
   },
   "file_extension": ".py",
   "mimetype": "text/x-python",
   "name": "python",
   "nbconvert_exporter": "python",
   "pygments_lexer": "ipython3",
   "version": "3.8.8"
  }
 },
 "nbformat": 4,
 "nbformat_minor": 2
}

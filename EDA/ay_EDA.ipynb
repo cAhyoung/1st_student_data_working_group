{
 "cells": [
  {
   "cell_type": "code",
   "execution_count": 1,
   "metadata": {},
   "outputs": [],
   "source": [
    "import pandas as pd\n",
    "import matplotlib.pyplot as plt\n",
    "import seaborn as sns"
   ]
  },
  {
   "cell_type": "code",
   "execution_count": null,
   "metadata": {},
   "outputs": [],
   "source": [
    "### 폰트설정 \n",
    "import matplotlib.font_manager as fm\n",
    "\n",
    "fe = fm.FontEntry(\n",
    "    fname=r'/NanumGothic.ttf', # ttf 파일이 저장되어 있는 경로\n",
    "    name='NanumGothic')                        # 이 폰트의 원하는 이름 설정\n",
    "fm.fontManager.ttflist.insert(0, fe)              # Matplotlib에 폰트 추가\n",
    "plt.rcParams.update({'font.size': 10, 'font.family': 'NanumGothic'}) # 폰트 설정"
   ]
  },
  {
   "cell_type": "markdown",
   "metadata": {},
   "source": [
    "### 1. 휴학 데이터 확인하기"
   ]
  },
  {
   "cell_type": "code",
   "execution_count": null,
   "metadata": {},
   "outputs": [],
   "source": [
    "### 데이터 불러오기, 학번의 경우 str으로 받아올 수 있도록 함\n",
    "data = pd.read_excel(\"file.xlsx\", converters={\"학번\" : str})"
   ]
  },
  {
   "cell_type": "code",
   "execution_count": null,
   "metadata": {},
   "outputs": [],
   "source": [
    "### 필요 없는 컬럼 삭제\n",
    "data.columns = [...]\n",
    "data.drop(index=0, inplace=True)"
   ]
  },
  {
   "cell_type": "code",
   "execution_count": null,
   "metadata": {},
   "outputs": [],
   "source": [
    "### 1년, 6개월 휴학의 수를 파악하기 위한 과정\n",
    "print(f\"휴학유형1 종류: \\n {data['휴학유형1'].value_counts()} \\n\\\n",
    "휴학유형2 종류 : \\n {data['휴학유형2'].value_counts()} \\n\\\n",
    "휴학유형3 종류 : \\n {data['휴학유형3'].value_counts()} \\n\\\n",
    "휴학유형4 종류 : \\n {data['휴학유형4'].value_counts()} \\n\\\n",
    "휴학유형5 종류 : \\n {data['휴학유형5'].value_counts()} \\n\\\n",
    "휴학유형6 종류 : \\n {data['휴학유형6'].value_counts()} \\n \")"
   ]
  },
  {
   "cell_type": "code",
   "execution_count": null,
   "metadata": {},
   "outputs": [],
   "source": [
    "### 주로 어떤 사유로 휴학하는지 확인\n",
    "print(f\"휴학사유1 종류: \\n {data['휴학사유1'].value_counts()} \\n\\\n",
    "휴학사유2 종류 : \\n {data['휴학사유2'].value_counts()} \\n\\\n",
    "휴학사유3 종류 : \\n {data['휴학사유3'].value_counts()} \\n\\\n",
    "휴학사유4 종류 : \\n {data['휴학사유4'].value_counts()} \\n\\\n",
    "휴학사유5 종류 : \\n {data['휴학사유5'].value_counts()} \\n\\\n",
    "휴학사유6 종류 : \\n {data['휴학사유6'].value_counts()} \\n \")"
   ]
  },
  {
   "cell_type": "code",
   "execution_count": null,
   "metadata": {},
   "outputs": [],
   "source": [
    "### 총 휴학기간에 대한 전반적인 분포를 확인\n",
    "plt.figure(figsize=(10, 10))\n",
    "sns.countplot(x=\"총휴학기간\", data=data)\n",
    "plt.show()"
   ]
  },
  {
   "cell_type": "code",
   "execution_count": null,
   "metadata": {},
   "outputs": [],
   "source": [
    "### 총 휴학기간이 과하게 긴 경우에 한해 따로 살펴보고자 함\n",
    "data[data[\"총휴학기간\"]==42.0]\n",
    "data[data[\"총휴학기간\"]==54.0]"
   ]
  },
  {
   "cell_type": "code",
   "execution_count": null,
   "metadata": {},
   "outputs": [],
   "source": [
    "### 휴학 사유에 대한 분포 확인\n",
    "plt.figure(figsize=(15, 15))\n",
    "for i in range(1, 7):\n",
    "    plt.subplot(3, 2, i)\n",
    "    sns.countplot(x=f\"휴학사유{i}\", data=data)\n",
    "    plt.title(f\"휴학사유{i}\")\n",
    "\n",
    "plt.show()"
   ]
  },
  {
   "cell_type": "markdown",
   "metadata": {},
   "source": [
    "### 2. 전공진로탐색 데이터 확인하기"
   ]
  },
  {
   "cell_type": "code",
   "execution_count": null,
   "metadata": {},
   "outputs": [],
   "source": [
    "### 전공진로탐색 데이터 가져오기 \n",
    "dep_data = pd.read_excel(\"file.xlsx\", converters={\"학번\" : str})"
   ]
  },
  {
   "cell_type": "code",
   "execution_count": null,
   "metadata": {},
   "outputs": [],
   "source": [
    "### 전진탐을 묶어서 하는 경우 -> 0으로 채워진 것이 아닌 Null값임\n",
    "dep_data.fillna(0, inplace=True)"
   ]
  }
 ],
 "metadata": {
  "kernelspec": {
   "display_name": "base",
   "language": "python",
   "name": "python3"
  },
  "language_info": {
   "codemirror_mode": {
    "name": "ipython",
    "version": 3
   },
   "file_extension": ".py",
   "mimetype": "text/x-python",
   "name": "python",
   "nbconvert_exporter": "python",
   "pygments_lexer": "ipython3",
   "version": "3.10.9"
  }
 },
 "nbformat": 4,
 "nbformat_minor": 2
}

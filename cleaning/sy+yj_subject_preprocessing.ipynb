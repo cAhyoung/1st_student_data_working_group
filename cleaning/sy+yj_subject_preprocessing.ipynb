{
 "cells": [
  {
   "cell_type": "markdown",
   "metadata": {},
   "source": [
    "# 교과 데이터 클리닝 - 서연, 예진"
   ]
  },
  {
   "cell_type": "code",
   "execution_count": 1,
   "metadata": {},
   "outputs": [],
   "source": [
    "import pandas as pd"
   ]
  },
  {
   "cell_type": "markdown",
   "metadata": {},
   "source": [
    "### 전진탐, 전탐, 진탐 데이터 합치기\n",
    "- 학년 별 수강 횟수\n",
    "- 1, 2 -> 1학년 / 3, 4 -> 2학년 / 5, 6 -> 3학년 / 7 이상 -> 4학년\n",
    "- F는 제외"
   ]
  },
  {
   "cell_type": "code",
   "execution_count": 2,
   "metadata": {},
   "outputs": [],
   "source": [
    "# 전공진로탐색\n",
    "dfmc = pd.read_excel(\"../../데이터/학사DB/전공진로탐색.xlsx\", converters={\"학번\" : str})"
   ]
  },
  {
   "cell_type": "code",
   "execution_count": 4,
   "metadata": {},
   "outputs": [],
   "source": [
    "# 전진탐 수업을 이수하지 않은 경우 삭제\n",
    "dfmc.dropna(subset=[\"취득성적_1\"], inplace=True)\n",
    "# F를 받은 경우 삭제\n",
    "dfmc.drop(dfmc[dfmc[\"취득성적_1\"] == 'F'].index, inplace=True)\n",
    "# 모든 열이 Null일 경우 삭제\n",
    "dfmc.dropna(how = 'all', axis='columns', inplace=True)\n",
    "# 필요 없는 취득성적 열 삭제\n",
    "dfmc.drop(dfmc.columns[range(2, len(dfmc.columns)+1, 2)], axis='columns', inplace=True)"
   ]
  },
  {
   "cell_type": "code",
   "execution_count": 6,
   "metadata": {},
   "outputs": [],
   "source": [
    "dfmc_map = dfmc.copy()\n",
    "\n",
    "# 이수 학기 -> 이수 학년으로 매핑\n",
    "for column in dfmc.columns[1:]:\n",
    "    new_column = \"학년\".join(column.split(\"학기\"))\n",
    "    dfmc_map.loc[dfmc[column] < 3, new_column] = 1\n",
    "    dfmc_map.loc[(dfmc[column] > 2) & (dfmc[column] < 5), new_column] = 2\n",
    "    dfmc_map.loc[(dfmc[column] > 4) & (dfmc[column] < 7), new_column] = 3\n",
    "    dfmc_map.loc[dfmc[column] > 6, new_column] = 4"
   ]
  },
  {
   "cell_type": "code",
   "execution_count": 8,
   "metadata": {},
   "outputs": [],
   "source": [
    "# 학번 + 이수학년만 가져오기\n",
    "dfmc_map = dfmc_map[[\"학번\"] + list(dfmc_map.columns[len(dfmc_map.columns)//2+1:])]"
   ]
  },
  {
   "cell_type": "code",
   "execution_count": 10,
   "metadata": {},
   "outputs": [
    {
     "name": "stderr",
     "output_type": "stream",
     "text": [
      "<ipython-input-10-65abadaa4daf>:5: SettingWithCopyWarning: \n",
      "A value is trying to be set on a copy of a slice from a DataFrame.\n",
      "Try using .loc[row_indexer,col_indexer] = value instead\n",
      "\n",
      "See the caveats in the documentation: https://pandas.pydata.org/pandas-docs/stable/user_guide/indexing.html#returning-a-view-versus-a-copy\n",
      "  dfmc_map[f'{i}학년'] = dfmc_map.apply(lambda x: (x == i).sum(), axis=1)\n"
     ]
    }
   ],
   "source": [
    "grade = [1, 2, 3, 4]\n",
    "\n",
    "# 학년 별로 집계하기\n",
    "for i in grade:\n",
    "    dfmc_map[f'{i}학년'] = dfmc_map.apply(lambda x: (x == i).sum(), axis=1)\n",
    "\n",
    "dfmc_map_grade = dfmc_map[['학번','1학년', '2학년', '3학년', '4학년']]"
   ]
  },
  {
   "cell_type": "code",
   "execution_count": 52,
   "metadata": {},
   "outputs": [],
   "source": [
    "# 분석용\n",
    "dfmc_map_grade.to_csv(\"../../데이터/major+course_count.csv\", index=False, encoding=\"utf8\")"
   ]
  },
  {
   "cell_type": "code",
   "execution_count": 12,
   "metadata": {},
   "outputs": [],
   "source": [
    "# 전공탐색\n",
    "dfm = pd.read_excel(\"../../데이터/학사DB/전공탐색.xlsx\", converters={\"학번\" : str})"
   ]
  },
  {
   "cell_type": "code",
   "execution_count": 15,
   "metadata": {},
   "outputs": [],
   "source": [
    "# 전진탐 수업을 이수하지 않은 경우 삭제\n",
    "dfm.dropna(subset=[\"취득성적_1\"], inplace=True)\n",
    "# F를 받은 경우 삭제\n",
    "dfm.drop(dfm[dfm[\"취득성적_1\"] == 'F'].index, inplace=True)\n",
    "# 모든 열이 Null일 경우 삭제\n",
    "dfm.dropna(how = 'all', axis='columns', inplace=True)\n",
    "# 필요 없는 취득성적 열 삭제\n",
    "dfm.drop(dfm.columns[range(2, len(dfm.columns)+1, 2)], axis='columns', inplace=True)"
   ]
  },
  {
   "cell_type": "code",
   "execution_count": 17,
   "metadata": {},
   "outputs": [],
   "source": [
    "dfm_map = dfm.copy()\n",
    "\n",
    "# 이수 학기 -> 이수 학년으로 매핑\n",
    "for column in dfm.columns[1:]:\n",
    "    new_column = \"학년\".join(column.split(\"학기\"))\n",
    "    dfm_map.loc[dfm[column] < 3, new_column] = 1\n",
    "    dfm_map.loc[(dfm[column] > 2) & (dfm[column] < 5), new_column] = 2\n",
    "    dfm_map.loc[(dfm[column] > 4) & (dfm[column] < 7), new_column] = 3\n",
    "    dfm_map.loc[dfm[column] > 6, new_column] = 4"
   ]
  },
  {
   "cell_type": "code",
   "execution_count": 18,
   "metadata": {},
   "outputs": [],
   "source": [
    "# 학번 + 이수학년만 가져오기\n",
    "dfm_map = dfm_map[[\"학번\"] + list(dfm_map.columns[len(dfm_map.columns)//2+1:])]"
   ]
  },
  {
   "cell_type": "code",
   "execution_count": 20,
   "metadata": {},
   "outputs": [],
   "source": [
    "grade = [1, 2, 3, 4]\n",
    "\n",
    "# 학년 별로 집계하기\n",
    "for i in grade:\n",
    "    dfm_map[f'{i}학년'] = dfm_map.apply(lambda x: (x == i).sum(), axis=1)\n",
    "\n",
    "dfm_map_grade = dfm_map[['학번','1학년', '2학년', '3학년', '4학년']]"
   ]
  },
  {
   "cell_type": "code",
   "execution_count": 53,
   "metadata": {},
   "outputs": [],
   "source": [
    "# 분석용\n",
    "dfm_map_grade.to_csv(\"../../데이터/major_count.csv\", index=False, encoding=\"utf8\")"
   ]
  },
  {
   "cell_type": "code",
   "execution_count": 22,
   "metadata": {},
   "outputs": [],
   "source": [
    "# 진로탐색\n",
    "dfc = pd.read_excel(\"../../데이터/학사DB/진로탐색.xlsx\", converters={\"학번\" : str})"
   ]
  },
  {
   "cell_type": "code",
   "execution_count": 24,
   "metadata": {},
   "outputs": [],
   "source": [
    "# 전진탐 수업을 이수하지 않은 경우 삭제\n",
    "dfc.dropna(subset=[\"취득성적_1\"], inplace=True)\n",
    "# F를 받은 경우 삭제\n",
    "dfc.drop(dfc[dfc[\"취득성적_1\"] == 'F'].index, inplace=True)\n",
    "# 모든 열이 Null일 경우 삭제\n",
    "dfc.dropna(how = 'all', axis='columns', inplace=True)\n",
    "# 필요 없는 취득성적 열 삭제\n",
    "dfc.drop(dfc.columns[range(2, len(dfc.columns)+1, 2)], axis='columns', inplace=True)"
   ]
  },
  {
   "cell_type": "code",
   "execution_count": 26,
   "metadata": {},
   "outputs": [],
   "source": [
    "dfc_map = dfc.copy()\n",
    "\n",
    "# 이수 학기 -> 이수 학년으로 매핑\n",
    "for column in dfc.columns[1:]:\n",
    "    new_column = \"학년\".join(column.split(\"학기\"))\n",
    "    dfc_map.loc[dfc[column] < 3, new_column] = 1\n",
    "    dfc_map.loc[(dfc[column] > 2) & (dfc[column] < 5), new_column] = 2\n",
    "    dfc_map.loc[(dfc[column] > 4) & (dfc[column] < 7), new_column] = 3\n",
    "    dfc_map.loc[dfc[column] > 6, new_column] = 4"
   ]
  },
  {
   "cell_type": "code",
   "execution_count": 27,
   "metadata": {},
   "outputs": [],
   "source": [
    "# 학번 + 이수학년만 가져오기\n",
    "dfc_map = dfc_map[[\"학번\"] + list(dfc_map.columns[len(dfc_map.columns)//2+1:])]"
   ]
  },
  {
   "cell_type": "code",
   "execution_count": 29,
   "metadata": {},
   "outputs": [],
   "source": [
    "grade = [1, 2, 3, 4]\n",
    "\n",
    "# 학년 별로 집계하기\n",
    "for i in grade:\n",
    "    dfc_map[f'{i}학년'] = dfc_map.apply(lambda x: (x == i).sum(), axis=1)\n",
    "\n",
    "dfc_map_grade = dfc_map[['학번','1학년', '2학년', '3학년', '4학년']]"
   ]
  },
  {
   "cell_type": "code",
   "execution_count": 54,
   "metadata": {},
   "outputs": [],
   "source": [
    "# 분석용\n",
    "dfc_map_grade.to_csv(\"../../데이터/course_count.csv\", index=False, encoding=\"utf8\")"
   ]
  },
  {
   "cell_type": "markdown",
   "metadata": {},
   "source": [
    "전진탐 + 전탐 + 진탐 합치기"
   ]
  },
  {
   "cell_type": "code",
   "execution_count": 31,
   "metadata": {},
   "outputs": [],
   "source": [
    "# 전탐 + 진탐 merge\n",
    "df_merged = pd.merge(dfc_map_grade, dfm_map_grade, on=\"학번\", how=\"outer\")"
   ]
  },
  {
   "cell_type": "code",
   "execution_count": 33,
   "metadata": {},
   "outputs": [],
   "source": [
    "# int + NaN = NaN 문제로 0으로 채워주기\n",
    "df_merged.fillna(0, inplace=True)\n",
    "\n",
    "# 각 학년 값 더한 뒤, 필요없는 컬럼 drop\n",
    "df_merged['1학년'] = df_merged['1학년_x'] + df_merged['1학년_y']\n",
    "df_merged['2학년'] = df_merged['2학년_x'] + df_merged['2학년_y']\n",
    "df_merged['3학년'] = df_merged['3학년_x'] + df_merged['3학년_y']\n",
    "df_merged['4학년'] = df_merged['4학년_x'] + df_merged['4학년_y']\n",
    "\n",
    "df_merged.drop(['1학년_x', '1학년_y'], axis=1, inplace=True)\n",
    "df_merged.drop(['2학년_x', '2학년_y'], axis=1, inplace=True)\n",
    "df_merged.drop(['3학년_x', '3학년_y'], axis=1, inplace=True)\n",
    "df_merged.drop(['4학년_x', '4학년_y'], axis=1, inplace=True)"
   ]
  },
  {
   "cell_type": "code",
   "execution_count": 35,
   "metadata": {},
   "outputs": [],
   "source": [
    "# 전탐 + 진탐 merge 결과 + 전진탐\n",
    "df_merged_ = pd.merge(df_merged, dfmc_map_grade, on=\"학번\", how=\"outer\")"
   ]
  },
  {
   "cell_type": "code",
   "execution_count": 36,
   "metadata": {},
   "outputs": [],
   "source": [
    "# int + NaN = NaN 문제로 0으로 채워주기\n",
    "df_merged_.fillna(0, inplace=True)\n",
    "\n",
    "# 각 학년 값 더한 뒤, 필요없는 컬럼 drop\n",
    "df_merged_['1학년'] = df_merged_['1학년_x'] + df_merged_['1학년_y']\n",
    "df_merged_['2학년'] = df_merged_['2학년_x'] + df_merged_['2학년_y']\n",
    "df_merged_['3학년'] = df_merged_['3학년_x'] + df_merged_['3학년_y']\n",
    "df_merged_['4학년'] = df_merged_['4학년_x'] + df_merged_['4학년_y']\n",
    "\n",
    "df_merged_.drop(['1학년_x', '1학년_y'], axis=1, inplace=True)\n",
    "df_merged_.drop(['2학년_x', '2학년_y'], axis=1, inplace=True)\n",
    "df_merged_.drop(['3학년_x', '3학년_y'], axis=1, inplace=True)\n",
    "df_merged_.drop(['4학년_x', '4학년_y'], axis=1, inplace=True)"
   ]
  },
  {
   "cell_type": "code",
   "execution_count": 37,
   "metadata": {},
   "outputs": [],
   "source": [
    "df_merged_.columns = [\"학번\", \"전진탐_1학년\", \"전진탐_2학년\", \"전진탐_3학년\", \"전진탐_4학년\"]"
   ]
  },
  {
   "cell_type": "markdown",
   "metadata": {},
   "source": [
    "### 바롬3 + 바롬3 우수자 합치기"
   ]
  },
  {
   "cell_type": "code",
   "execution_count": 39,
   "metadata": {},
   "outputs": [],
   "source": [
    "# 바롬3 성적 데이터\n",
    "barom3 = pd.read_excel(\"../../데이터/학사DB/바롬.xlsx\", dtype={'학번': str})\n",
    "barom3=barom3[['학번','바롬3']]"
   ]
  },
  {
   "cell_type": "code",
   "execution_count": 40,
   "metadata": {},
   "outputs": [],
   "source": [
    "# 바롬3 우수자 명단\n",
    "# skiprows=1, <= 원데이터의 공백으로 되어 있던 첫 행이 있는 경우 파라미터에 넣어 쓰세요~~~\n",
    "barom_perfect = pd.read_excel(\"../../데이터/학사DB/취업요인분석 자료 4차 - 바롬종합설계프로젝트 우수자 명단.xlsx\", dtype={'학번': str})"
   ]
  },
  {
   "cell_type": "code",
   "execution_count": 42,
   "metadata": {},
   "outputs": [],
   "source": [
    "# 만약 데이터를 불러왔을 때 Unnamed: 2 라는 빈 컬럼이 있는 경우\n",
    "barom_perfect = barom_perfect[[\"시행학년도\", \"학번\"]]"
   ]
  },
  {
   "cell_type": "code",
   "execution_count": 43,
   "metadata": {},
   "outputs": [],
   "source": [
    "barom3['우수프로젝트여부'] = barom3['학번'].isin(barom_perfect['학번']).astype(int)"
   ]
  },
  {
   "cell_type": "code",
   "execution_count": 44,
   "metadata": {},
   "outputs": [],
   "source": [
    "# 성적 str -> int 매핑\n",
    "barom3.replace('A+',4.5,inplace=True)\n",
    "barom3.replace('A0',4.0,inplace=True)\n",
    "barom3.replace('B+',3.5,inplace=True)\n",
    "barom3.replace('B0',3.0,inplace=True)\n",
    "barom3.replace('C+',2.5,inplace=True)\n",
    "barom3.replace('C0',2.0,inplace=True)\n",
    "barom3.replace('D+',1.5,inplace=True)"
   ]
  },
  {
   "cell_type": "markdown",
   "metadata": {},
   "source": [
    "### 교과 분석용 최종 데이터 병합"
   ]
  },
  {
   "cell_type": "code",
   "execution_count": 46,
   "metadata": {},
   "outputs": [],
   "source": [
    "subject_final = pd.merge(df_merged_, barom3, on=\"학번\", how=\"outer\")"
   ]
  },
  {
   "cell_type": "code",
   "execution_count": 49,
   "metadata": {},
   "outputs": [],
   "source": [
    "# 전진탐 수강 안한 사람, 즉 NaN 값 0으로\n",
    "subject_final.fillna(0, inplace=True)\n",
    "# 컬럼명 학번 -> ID 로 변경\n",
    "subject_final.rename(columns={\"학번\":\"ID\", \"바롬3\":\"바종설_성적\", \"우수프로젝트여부\":\"바종설_우수여부\"}, inplace=True)"
   ]
  },
  {
   "cell_type": "code",
   "execution_count": 51,
   "metadata": {},
   "outputs": [],
   "source": [
    "subject_final.to_csv(\"../../데이터/subject_preprocessing.csv\", index=False, encoding=\"utf8\")"
   ]
  }
 ],
 "metadata": {
  "kernelspec": {
   "display_name": "base",
   "language": "python",
   "name": "python3"
  },
  "language_info": {
   "codemirror_mode": {
    "name": "ipython",
    "version": 3
   },
   "file_extension": ".py",
   "mimetype": "text/x-python",
   "name": "python",
   "nbconvert_exporter": "python",
   "pygments_lexer": "ipython3",
   "version": "3.8.8"
  }
 },
 "nbformat": 4,
 "nbformat_minor": 2
}

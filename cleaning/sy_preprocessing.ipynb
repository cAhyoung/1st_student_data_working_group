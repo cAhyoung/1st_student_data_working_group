{
 "cells": [
  {
   "cell_type": "markdown",
   "metadata": {},
   "source": [
    "### 클리닝 후 전처리_서연"
   ]
  },
  {
   "cell_type": "markdown",
   "metadata": {},
   "source": [
    "#### 데이터 필터링\n",
    "1. 외국인 유학생 삭제\n",
    "2. 재외국인 전형 삭제\n",
    "3. 제외인정자 삭제\n",
    "4. 12학번까지 삭제 (or 13학번까지 삭제)\n",
    "5. 신입학/편입학 나누기"
   ]
  },
  {
   "cell_type": "code",
   "execution_count": null,
   "metadata": {},
   "outputs": [],
   "source": [
    "# 외국인 유학생 삭제\n",
    "merged_df.drop(merged_df[(merged_df[\"입학전형\"]==\"제1학기 외국인\") | (merged_df[\"입학전형\"]==\"제2학기 외국인\")].index, inplace=True)\n",
    "merged_df.drop([\"외국인유학생여부\"], axis=1, inplace=True)"
   ]
  },
  {
   "cell_type": "code",
   "execution_count": null,
   "metadata": {},
   "outputs": [],
   "source": [
    "# 재외국민과외국인전형 삭제\n",
    "merged_df.drop(merged_df[merged_df[\"세부입학전형\"]==\"제1학기 재외국민과외국인전형\"].index, inplace=True)"
   ]
  },
  {
   "cell_type": "code",
   "execution_count": null,
   "metadata": {},
   "outputs": [],
   "source": [
    "# 제외인정자 삭제\n",
    "merged_df.dropna(subset=[\"취업유무\"], inplace=True)"
   ]
  },
  {
   "cell_type": "code",
   "execution_count": null,
   "metadata": {},
   "outputs": [],
   "source": [
    "# 12학번까지 삭제\n",
    "merged_df.drop(merged_df[merged_df[\"입학년도\"] < 2013].index, inplace=True)"
   ]
  },
  {
   "cell_type": "code",
   "execution_count": null,
   "metadata": {},
   "outputs": [],
   "source": [
    "# 졸업일 원핫인코딩\n",
    "merged_df = pd.get_dummies(merged_df, columns = [\"졸업일\"])"
   ]
  },
  {
   "cell_type": "code",
   "execution_count": null,
   "metadata": {},
   "outputs": [],
   "source": [
    "# 부전공 이수여부 추가\n",
    "merged_df[\"부전공\"].fillna(0, inplace=True)\n",
    "merged_df[\"부전공_이수여부\"] = merged_df[\"부전공\"].mask((merged_df[\"부전공\"] != 0), 1)"
   ]
  },
  {
   "cell_type": "code",
   "execution_count": null,
   "metadata": {},
   "outputs": [],
   "source": [
    "## 신입학/편입학 나누기 + 입학구분 삭제\n",
    "# 신입학\n",
    "merged_df_new = merged_df[merged_df[\"입학구분\"]==\"신입\"]\n",
    "merged_df_new.drop([\"입학구분\"], axis=1, inplace=True)\n",
    "# 편입학\n",
    "merged_df_trans = merged_df[merged_df[\"입학구분\"]==\"편입\"]\n",
    "merged_df_trans.drop([\"입학구분\"], axis=1, inplace=True)"
   ]
  },
  {
   "cell_type": "code",
   "execution_count": null,
   "metadata": {},
   "outputs": [],
   "source": [
    "# 부전공 유무로 변경\n",
    "student_df[\"부전공\"].fillna(0, inplace=True)\n",
    "student_df[\"부전공\"].mask((student_df[\"부전공\"] != 0), 1, inplace=True)"
   ]
  },
  {
   "cell_type": "markdown",
   "metadata": {},
   "source": [
    "----"
   ]
  },
  {
   "cell_type": "markdown",
   "metadata": {},
   "source": [
    "#### 모델링 직전 추가 전처리"
   ]
  },
  {
   "cell_type": "markdown",
   "metadata": {},
   "source": [
    "1. 복수전공 여부 추가\n",
    "2. 입학전형 정시/수시 원핫인코딩\n",
    "3. 전진탐 전체 수강 횟수로 수정 -> 전진탐_이수횟수\n",
    "4. 2전공 있는 경우 1전공이랑 평균 → 전공_취득성적\n",
    "---\n",
    "- 취업유무 -> 취업여부\n",
    "- 정시 -> 입학전형\n",
    "- 2전공_이수여부 -> 복수/연계전공_이수여부"
   ]
  },
  {
   "cell_type": "code",
   "execution_count": null,
   "metadata": {},
   "outputs": [],
   "source": [
    "# 복수전공 이수여부 추가\n",
    "df[\"2전공\"].fillna(0, inplace=True)\n",
    "df[\"2전공_이수여부\"] = df[\"2전공\"].mask((df[\"2전공\"] != 0), 1)\n",
    "df[\"2전공\"].replace(0, None, inplace=True)"
   ]
  },
  {
   "cell_type": "code",
   "execution_count": null,
   "metadata": {},
   "outputs": [],
   "source": [
    "# 잘못된 데이터 수정\n",
    "df[\"입학전형\"].replace(\"정시모집(세계지리 오류)\", \"정시\", inplace=True)\n",
    "\n",
    "# 입학전형 원핫인코딩 정시/수시\n",
    "df = pd.get_dummies(df, columns = [\"입학전형\"], dtype=int)\n",
    "df.rename(columns={\"입학전형_정시\":\"정시\", \"입학전형_수시\":\"수시\"}, inplace=True)"
   ]
  },
  {
   "cell_type": "code",
   "execution_count": null,
   "metadata": {},
   "outputs": [],
   "source": [
    "# 전진탐 전체 수강 횟수 컬럼 생성\n",
    "df[\"전진탐_이수횟수\"] = df[\"전진탐_1학년\"] + df[\"전진탐_2학년\"] + df[\"전진탐_3학년\"] + df[\"전진탐_4학년\"]"
   ]
  },
  {
   "cell_type": "code",
   "execution_count": null,
   "metadata": {},
   "outputs": [],
   "source": [
    "# 2전공 있는 경우 1전공이랑 평균 → 전공_취득성적\n",
    "df[\"전공_취득성적\"] = df[[\"1전공_취득성적\", \"2전공_취득성적\"]].mean(axis=1, skipna=True)"
   ]
  },
  {
   "cell_type": "code",
   "execution_count": null,
   "metadata": {},
   "outputs": [],
   "source": [
    "# 컬럼명 변경\n",
    "df.rename(columns={\"취업유무\":\"취업여부\", \"정시\":\"입학전형\", \"2전공_이수여부\":\"복수/연계전공_이수여부\"}, inplace=True)"
   ]
  }
 ],
 "metadata": {
  "language_info": {
   "name": "python"
  }
 },
 "nbformat": 4,
 "nbformat_minor": 2
}

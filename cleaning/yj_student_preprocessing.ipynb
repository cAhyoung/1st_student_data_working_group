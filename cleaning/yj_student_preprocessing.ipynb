{
 "cells": [
  {
   "cell_type": "markdown",
   "id": "883e42d8",
   "metadata": {},
   "source": [
    "# 학적부 데이터 클리닝"
   ]
  },
  {
   "cell_type": "code",
   "execution_count": 1,
   "id": "136fc195",
   "metadata": {},
   "outputs": [],
   "source": [
    "import pandas as pd\n",
    "import numpy as np"
   ]
  },
  {
   "cell_type": "code",
   "execution_count": null,
   "id": "ac001d32",
   "metadata": {},
   "outputs": [],
   "source": [
    "student=pd.read_excel(\"D:/src/취업영향 요인분석 1차 - 입학, 학적, 학적변동정보/01학적(졸업일추가).xlsx\", converters={\"학번\" : str})"
   ]
  },
  {
   "cell_type": "markdown",
   "id": "0a7d357a",
   "metadata": {},
   "source": [
    "### student 데이터프레임\n",
    "- 학번\n",
    "- 출생연도\n",
    "- 대학\n",
    "- 학부/학과\n",
    "- 전공\n",
    "- 제2전공\n",
    "- 제3전공\n",
    "- 부전공\n",
    "- 연계전공\n",
    "- 총 이수학기\n",
    "- 졸업유예 여부\n",
    "- 졸업유예 횟수\n",
    "- 취득학위\n",
    "- 졸업일"
   ]
  },
  {
   "cell_type": "code",
   "execution_count": 3,
   "id": "9bbc43ce",
   "metadata": {},
   "outputs": [
    {
     "data": {
      "text/plain": [
       "array(['행정학사', '문학사', '체육학사', '경영학사', '이학사', '원예학사', '경제학사', '공학사',\n",
       "       '미술학사', '디자인학사'], dtype=object)"
      ]
     },
     "execution_count": 3,
     "metadata": {},
     "output_type": "execute_result"
    }
   ],
   "source": [
    "## 취득학위 고유값 -> 1전공에 부합하는 학위들만 존재\n",
    "## 2,3,연계전공에 해당하는 학위들까지 원핫인코딩 진행\n",
    "student['취득학위'].unique()"
   ]
  },
  {
   "cell_type": "code",
   "execution_count": null,
   "id": "d395c2ad",
   "metadata": {},
   "outputs": [],
   "source": [
    "## nan값으로 채워진 빈 학위컬럼들 생성\n",
    "df=pd.DataFrame(columns=['ID', '1전공', '2전공', '3전공', '부전공', '총이수학기', '졸업유예횟수', '졸업일', \n",
    "'행정학사', '문학사', '체육학사', '경영학사', '이학사', '원예학사', '경제학사', '공학사', '미술학사', \n",
    "'디자인학사','글로벌문화학사', '조경학사', '공학사(경영공학)'])\n",
    "df['ID']=student['학번']\n",
    "df['1전공'] = np.where(student['전공'].notna(), student['전공'], student['학부/학과'])\n",
    "df['2전공']=student['제2전공'].combine_first(student['연계전공'])\n",
    "df['3전공']=student['제3전공']\n",
    "df['부전공']=student['부전공']\n",
    "df['총이수학기']=student['총 이수학기']\n",
    "df['졸업유예횟수']=student['졸업유예 횟수']\n",
    "df['졸업일']=student['졸업일']"
   ]
  },
  {
   "cell_type": "code",
   "execution_count": null,
   "id": "7d1fdc30",
   "metadata": {},
   "outputs": [],
   "source": [
    "graduate=pd.read_excel(\"D:/src/취업효과성분석_merge(1127).xlsx\", converters={\"ID\" : str})\n",
    "df=pd.merge(df,graduate[['ID','입학년도','외국인유학생여부','최종취업구분']],on='ID')"
   ]
  },
  {
   "cell_type": "code",
   "execution_count": 68,
   "id": "c5a35ed2",
   "metadata": {},
   "outputs": [],
   "source": [
    "# 컬럼 재배치\n",
    "df=df[['ID', '1전공', '2전공', '3전공', '부전공', '총이수학기', '졸업유예횟수', '입학년도', '졸업일', \n",
    "'행정학사', '문학사', '체육학사', '경영학사', '이학사', '원예학사', '경제학사', '공학사', '미술학사', \n",
    "'디자인학사','글로벌문화학사', '조경학사', '공학사(경영공학)', '외국인유학생여부', '최종취업구분']]"
   ]
  },
  {
   "cell_type": "code",
   "execution_count": 39,
   "id": "014ba0a3",
   "metadata": {},
   "outputs": [
    {
     "data": {
      "text/plain": [
       "array(['행정학과', '저널리즘전공', '영어영문학과', '아동학과', '언론홍보학전공', '방송영상학전공', '교육심리학과',\n",
       "       '체육학과', '경영학과', '비즈니스커뮤니케이션전공', '불어불문학과', '디지털영상전공', '독어독문학과',\n",
       "       '국어국문학과', '수학과', '화학전공', '화학과', '생명환경공학전공', '중어중문학과', '생명환경공학과',\n",
       "       '원예생명조경학과', '일어일문학과', '사학과', '식품공학전공', '식품공학과', '기독교학과', '경제학과',\n",
       "       '식품영양학전공', '식품영양학과', '의류학과', '컴퓨터학과', '문헌정보학과', '콘텐츠디자인학과',\n",
       "       '정보보호학과', '사회복지학과', '멀티미디어학과', '현대미술전공', '공예전공', '시각디자인전공',\n",
       "       '산업디자인학과', '현대미술과', '공예학과', '시각디자인학과', '디지털미디어학과', '소프트웨어융합학과',\n",
       "       '패션산업학과'], dtype=object)"
      ]
     },
     "execution_count": 39,
     "metadata": {},
     "output_type": "execute_result"
    }
   ],
   "source": [
    "df['1전공'].unique()"
   ]
  },
  {
   "cell_type": "code",
   "execution_count": 40,
   "id": "b5afd85b",
   "metadata": {},
   "outputs": [
    {
     "data": {
      "text/plain": [
       "array(['경영학과', nan, '사회복지학과', '저널리즘전공', '국제학전공', '행정학과', '데이터과학전공',\n",
       "       '글로벌문화산업·MICE전공', '경제학과', '일어일문학과', '의류학과', '교육심리학과', '독어독문학과',\n",
       "       '청소년학전공', '국어국문학과', '영어영문학과', '디지털융합경영전공', '비즈니스커뮤니케이션전공',\n",
       "       '멀티미디어학과', '정보보호학과', '문예창작전공', '식품영양학과', '기업보안융합전공', '시각디자인전공',\n",
       "       '수학과', '공공안전전공', '언론홍보학전공', '중어중문학과', '식품공학전공', '바이오화장품공학전공',\n",
       "       '바이오인포매틱스전공', '소프트웨어융합학과', '사학과', '기독교학과', '스마트농업공학전공', '생명환경공학전공',\n",
       "       '도시환경예술디자인전공', '생명환경공학과', '디지털영상전공', '디지털미디어학과', '박물관학전공', '체육학과',\n",
       "       '아동학과', '시각디자인학과', '불어불문학과', '공예전공', '식품영양학전공', '현대미술전공'],\n",
       "      dtype=object)"
      ]
     },
     "execution_count": 40,
     "metadata": {},
     "output_type": "execute_result"
    }
   ],
   "source": [
    "df['2전공'].unique()"
   ]
  },
  {
   "cell_type": "markdown",
   "id": "c58c3753",
   "metadata": {},
   "source": [
    "## 학과별 학위 분류\n",
    "- '경영학과' -> 경영학사\n",
    "- '경제학과' -> 경제학사\n",
    "- '공공안전전공' -> 행정학사\n",
    "- '공예전공' -> 미술학사\n",
    "- '공예학과' -> 미술학사\n",
    "- '교육심리학과' -> 문학사\n",
    "- '국어국문학과' -> 문학사\n",
    "- '국제학전공' -> 문학사\n",
    "- '글로벌문화산업·MICE전공' -> 글로벌문화학사\n",
    "- '기독교학과' -> 문학사\n",
    "- '기업보안융합전공' -> 공학사\n",
    "\n",
    "\n",
    "- '도시환경예술디자인전공' -> 조경학사\n",
    "- '독어독문학과' -> 문학사\n",
    "- '데이터과학전공' -> 공학사\n",
    "- '디지털미디어학과' -> 공학사\n",
    "- '디지털영상전공' -> 문학사\n",
    "- '디지털융합경영전공' -> 공학사(경영공학)\n",
    "\n",
    "\n",
    "- '멀티미디어학과' -> 공학사\n",
    "- '문예창작전공' -> 문학사\n",
    "- '문헌정보학과' -> 문학사\n",
    "\n",
    "\n",
    "- '바이오인포매틱스전공' -> 공학사\n",
    "- '바이오화장품공학전공' -> 공학사\n",
    "- '박물관학전공' -> 문학사\n",
    "- '방송영상학전공' -> 문학사\n",
    "- '불어불문학과' -> 문학사\n",
    "- '비즈니스커뮤니케이션전공' -> 문학사\n",
    "\n",
    "\n",
    "- '사학과' -> 문학사\n",
    "- '사회복지학과' -> 문학사\n",
    "- '산업디자인학과' -> 디자인학사\n",
    "- '생명환경공학과' -> 이학사\n",
    "- '생명환경공학전공' -> 이학사\n",
    "- '소프트웨어융합학과' -> 공학사\n",
    "- '수학과' -> 이학사\n",
    "- '스마트농업공학전공' -> 공학사\n",
    "- '시각디자인학과' -> 디자인학사\n",
    "- '시각디자인전공' -> 디자인학사\n",
    "- '식품공학전공' -> 이학사\n",
    "- '식품공학과' -> 이학사\n",
    "- '식품영양학전공' -> 이학사\n",
    "- '식품영양학과' -> 이학사\n",
    "\n",
    "\n",
    "- '아동학과' -> 문학사\n",
    "- '언론홍보학전공' -> 문학사\n",
    "- '영어영문학과' -> 문학사\n",
    "- '원예생명조경학과' -> 원예학사\n",
    "- '일어일문학과' -> 문학사\n",
    "- '의류학과' -> 이학사\n",
    "\n",
    "\n",
    "- '저널리즘전공' -> 문학사\n",
    "- '중어중문학과' -> 문학사\n",
    "- '정보보호학과' -> 공학사\n",
    "\n",
    "\n",
    "- '청소년학전공' -> 문학사\n",
    "- '체육학과' -> 체육학사\n",
    "\n",
    "\n",
    "- '컴퓨터학과' -> 공학사\n",
    "- '콘텐츠디자인학과' -> 공학사\n",
    "\n",
    "\n",
    "- '행정학과' -> 행정학사\n",
    "- '화학전공' -> 이학사\n",
    "- '화학과' -> 이학사\n",
    "- '현대미술전공' -> 미술학사\n",
    "- '현대미술과' -> 미술학사"
   ]
  },
  {
   "cell_type": "code",
   "execution_count": 42,
   "id": "9321444d",
   "metadata": {},
   "outputs": [],
   "source": [
    "# 각 학사별 학과(전공) 리스트\n",
    "list_경영=['경영학과']\n",
    "list_경제=['경제학과']\n",
    "list_공학=['기업보안융합전공','데이터과학전공','디지털미디어학과','멀티미디어학과',\n",
    "        '바이오인포매틱스전공','바이오화장품공학전공','소프트웨어융합학과','스마트농업공학전공',\n",
    "        '정보보호학과','컴퓨터학과','콘텐츠디자인학과']\n",
    "list_공학경영=['디지털융합경영전공']\n",
    "list_글로벌문화=['글로벌문화산업·MICE전공']\n",
    "list_디자인=['산업디자인학과','시각디자인학과','시각디자인전공']\n",
    "list_문학=['교육심리학과','국어국문학과','국제학전공','기독교학과','독어독문학과',\n",
    "        '디지털영상전공','문예창작전공','문헌정보학과','박물관학전공','방송영상학전공',\n",
    "        '불어불문학과','비즈니스커뮤니케이션전공','사학과','사회복지학과','아동학과',\n",
    "        '언론홍보학전공','영어영문학과','일어일문학과','저널리즘전공','중어중문학과',\n",
    "        '청소년학전공']\n",
    "list_미술=['공예전공','공예학과','현대미술전공','현대미술과']\n",
    "list_원예=['원예생명조경학과']\n",
    "list_이학=['생명환경공학과','생명환경공학전공','수학과','식품공학전공','식품공학과',\n",
    "        '식품영양학전공','식품영양학과','의류학과','화학전공','화학과']\n",
    "list_조경=['도시환경예술디자인전공']\n",
    "list_체육=['체육학과']\n",
    "list_행정=['공공안전전공','행정학과']"
   ]
  },
  {
   "cell_type": "code",
   "execution_count": 69,
   "id": "c755b4c5",
   "metadata": {},
   "outputs": [],
   "source": [
    "## 해당 학사를 취득한 경우는 1\n",
    "df['행정학사'] = np.where(df['1전공'].isin(list_행정), 1, df['행정학사'])\n",
    "df['행정학사'] = np.where(df['2전공'].isin(list_행정), 1, df['행정학사'])\n",
    "df['행정학사'] = np.where(df['3전공'].isin(list_행정), 1, df['행정학사'])\n",
    "\n",
    "df['문학사'] = np.where(df['1전공'].isin(list_문학), 1, df['문학사'])\n",
    "df['문학사'] = np.where(df['2전공'].isin(list_문학), 1, df['문학사'])\n",
    "df['문학사'] = np.where(df['3전공'].isin(list_문학), 1, df['문학사'])\n",
    "\n",
    "df['체육학사'] = np.where(df['1전공'].isin(list_체육), 1, df['체육학사'])\n",
    "df['체육학사'] = np.where(df['2전공'].isin(list_체육), 1, df['체육학사'])\n",
    "df['체육학사'] = np.where(df['3전공'].isin(list_체육), 1, df['체육학사'])\n",
    "\n",
    "df['경영학사'] = np.where(df['1전공'].isin(list_경영), 1, df['경영학사'])\n",
    "df['경영학사'] = np.where(df['2전공'].isin(list_경영), 1, df['경영학사'])\n",
    "df['경영학사'] = np.where(df['3전공'].isin(list_경영), 1, df['경영학사'])\n",
    "\n",
    "df['이학사'] = np.where(df['1전공'].isin(list_이학), 1, df['이학사'])\n",
    "df['이학사'] = np.where(df['2전공'].isin(list_이학), 1, df['이학사'])\n",
    "df['이학사'] = np.where(df['3전공'].isin(list_이학), 1, df['이학사'])"
   ]
  },
  {
   "cell_type": "code",
   "execution_count": 70,
   "id": "ad1f4fb1",
   "metadata": {},
   "outputs": [],
   "source": [
    "df['원예학사'] = np.where(df['1전공'].isin(list_원예), 1, df['원예학사'])\n",
    "df['원예학사'] = np.where(df['2전공'].isin(list_원예), 1, df['원예학사'])\n",
    "df['원예학사'] = np.where(df['3전공'].isin(list_원예), 1, df['원예학사'])\n",
    "\n",
    "df['경제학사'] = np.where(df['1전공'].isin(list_경제), 1, df['경제학사'])\n",
    "df['경제학사'] = np.where(df['2전공'].isin(list_경제), 1, df['경제학사'])\n",
    "df['경제학사'] = np.where(df['3전공'].isin(list_경제), 1, df['경제학사'])\n",
    "\n",
    "df['공학사'] = np.where(df['1전공'].isin(list_공학), 1, df['공학사'])\n",
    "df['공학사'] = np.where(df['2전공'].isin(list_공학), 1, df['공학사'])\n",
    "df['공학사'] = np.where(df['3전공'].isin(list_공학), 1, df['공학사'])\n",
    "\n",
    "df['미술학사'] = np.where(df['1전공'].isin(list_미술), 1, df['미술학사'])\n",
    "df['미술학사'] = np.where(df['2전공'].isin(list_미술), 1, df['미술학사'])\n",
    "df['미술학사'] = np.where(df['3전공'].isin(list_미술), 1, df['미술학사'])\n",
    "\n",
    "df['디자인학사'] = np.where(df['1전공'].isin(list_디자인), 1, df['디자인학사'])\n",
    "df['디자인학사'] = np.where(df['2전공'].isin(list_디자인), 1, df['디자인학사'])\n",
    "df['디자인학사'] = np.where(df['3전공'].isin(list_디자인), 1, df['디자인학사'])"
   ]
  },
  {
   "cell_type": "code",
   "execution_count": 71,
   "id": "933310a3",
   "metadata": {},
   "outputs": [],
   "source": [
    "df['글로벌문화학사'] = np.where(df['1전공'].isin(list_글로벌문화), 1, df['글로벌문화학사'])\n",
    "df['글로벌문화학사'] = np.where(df['2전공'].isin(list_글로벌문화), 1, df['글로벌문화학사'])\n",
    "df['글로벌문화학사'] = np.where(df['3전공'].isin(list_글로벌문화), 1, df['글로벌문화학사'])\n",
    "\n",
    "df['조경학사'] = np.where(df['1전공'].isin(list_조경), 1, df['조경학사'])\n",
    "df['조경학사'] = np.where(df['2전공'].isin(list_조경), 1, df['조경학사'])\n",
    "df['조경학사'] = np.where(df['3전공'].isin(list_조경), 1, df['조경학사'])\n",
    "\n",
    "df['공학사(경영공학)'] = np.where(df['1전공'].isin(list_공학경영), 1, df['공학사(경영공학)'])\n",
    "df['공학사(경영공학)'] = np.where(df['2전공'].isin(list_공학경영), 1, df['공학사(경영공학)'])\n",
    "df['공학사(경영공학)'] = np.where(df['3전공'].isin(list_공학경영), 1, df['공학사(경영공학)'])"
   ]
  },
  {
   "cell_type": "code",
   "execution_count": 73,
   "id": "48a603ad",
   "metadata": {},
   "outputs": [
    {
     "name": "stdout",
     "output_type": "stream",
     "text": [
      "<class 'pandas.core.frame.DataFrame'>\n",
      "Int64Index: 1563 entries, 0 to 1562\n",
      "Data columns (total 24 columns):\n",
      " #   Column     Non-Null Count  Dtype \n",
      "---  ------     --------------  ----- \n",
      " 0   ID         1563 non-null   object\n",
      " 1   1전공        1563 non-null   object\n",
      " 2   2전공        508 non-null    object\n",
      " 3   3전공        1 non-null      object\n",
      " 4   부전공        37 non-null     object\n",
      " 5   총이수학기      1563 non-null   int64 \n",
      " 6   졸업유예횟수     1563 non-null   int64 \n",
      " 7   입학년도       1563 non-null   int64 \n",
      " 8   졸업일        1563 non-null   object\n",
      " 9   행정학사       1563 non-null   int64 \n",
      " 10  문학사        1563 non-null   int64 \n",
      " 11  체육학사       1563 non-null   int64 \n",
      " 12  경영학사       1563 non-null   int64 \n",
      " 13  이학사        1563 non-null   int64 \n",
      " 14  원예학사       1563 non-null   int64 \n",
      " 15  경제학사       1563 non-null   int64 \n",
      " 16  공학사        1563 non-null   int64 \n",
      " 17  미술학사       1563 non-null   int64 \n",
      " 18  디자인학사      1563 non-null   int64 \n",
      " 19  글로벌문화학사    1563 non-null   int64 \n",
      " 20  조경학사       1563 non-null   int64 \n",
      " 21  공학사(경영공학)  1563 non-null   int64 \n",
      " 22  외국인유학생여부   1563 non-null   object\n",
      " 23  최종취업구분     1563 non-null   object\n",
      "dtypes: int64(16), object(8)\n",
      "memory usage: 305.3+ KB\n"
     ]
    },
    {
     "name": "stderr",
     "output_type": "stream",
     "text": [
      "C:\\Users\\Public\\Documents\\ESTsoft\\CreatorTemp\\ipykernel_3908\\393167301.py:2: FutureWarning: In a future version, `df.iloc[:, i] = newvals` will attempt to set the values inplace instead of always setting a new array. To retain the old behavior, use either `df[df.columns[i]] = newvals` or, if columns are non-unique, `df.isetitem(i, newvals)`\n",
      "  df.iloc[:,9:-2]=df.iloc[:,9:-2].fillna(0)\n"
     ]
    }
   ],
   "source": [
    "## 해당 학사를 취득하지 못한 경우는 0\n",
    "df.iloc[:,9:-2]=df.iloc[:,9:-2].fillna(0)\n",
    "df.info()"
   ]
  },
  {
   "cell_type": "code",
   "execution_count": 74,
   "id": "920b99e7",
   "metadata": {},
   "outputs": [],
   "source": [
    "## 외국인 유학생여부 -> 숫자치환\n",
    "df.replace('아니요',0,inplace=True)\n",
    "df.replace('예',1,inplace=True)"
   ]
  },
  {
   "cell_type": "code",
   "execution_count": null,
   "id": "f863eca5",
   "metadata": {},
   "outputs": [],
   "source": [
    "# 분석용 취업구분(=취업유무 0,1)\n",
    "def determine_employment(row):\n",
    "    ## 취업자는 1\n",
    "    if row['최종취업구분'] in ['취업자(건보가입자)', '교내취업자', '취업자(프리랜서)', '취업자(1인창(사)업자)', \n",
    "                         '취업자(개인창작활동종사자) - 전시', '취업자(해외취업자)']:\n",
    "        return 1\n",
    "    ## 미취업자는 0\n",
    "    elif row['최종취업구분'] == '기타':\n",
    "        return 0\n",
    "    ## 제외인정자는 결측값\n",
    "    else:\n",
    "        return np.nan\n",
    "\n",
    "df['취업유무'] = df.apply(determine_employment, axis=1)"
   ]
  },
  {
   "cell_type": "code",
   "execution_count": null,
   "id": "cb44e09f",
   "metadata": {},
   "outputs": [],
   "source": []
  }
 ],
 "metadata": {
  "kernelspec": {
   "display_name": "Python 3 (ipykernel)",
   "language": "python",
   "name": "python3"
  },
  "language_info": {
   "codemirror_mode": {
    "name": "ipython",
    "version": 3
   },
   "file_extension": ".py",
   "mimetype": "text/x-python",
   "name": "python",
   "nbconvert_exporter": "python",
   "pygments_lexer": "ipython3",
   "version": "3.9.12"
  }
 },
 "nbformat": 4,
 "nbformat_minor": 5
}
